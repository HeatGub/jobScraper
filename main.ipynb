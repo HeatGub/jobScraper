{
 "cells": [
  {
   "cell_type": "markdown",
   "metadata": {},
   "source": [
    "## Open a browser and set the cookies from a JSON file"
   ]
  },
  {
   "cell_type": "code",
   "execution_count": 222,
   "metadata": {},
   "outputs": [],
   "source": [
    "from selenium import webdriver\n",
    "from selenium.webdriver.chrome.service import Service\n",
    "from selenium.webdriver.chrome.options import Options\n",
    "from selenium.webdriver.common.by import By\n",
    "from selenium.webdriver.support.ui import WebDriverWait\n",
    "from selenium.webdriver.support import expected_conditions as EC\n",
    "import time\n",
    "import json\n",
    "import random\n",
    "\n",
    "def setCookiesFromJson():\n",
    "    with open('cookies.json', 'r', newline='') as inputdata:\n",
    "        cookies = json.load(inputdata)\n",
    "    for cookie in cookies: #works only after driver.get\n",
    "        driver.add_cookie(cookie)\n",
    "    driver.refresh() # to load cookies\n",
    "\n",
    "service = Service(executable_path=\"chromedriver.exe\")\n",
    "chrome_options = Options()\n",
    "chrome_options.add_argument(\"--disable-search-engine-choice-screen\")\n",
    "# chrome_options.add_experimental_option('excludeSwitches', ['enable-logging']) #disable error logging\n",
    "driver = webdriver.Chrome(service=service, options=chrome_options)\n",
    "\n",
    "base_url = \"https://theprotocol.it/filtry/python;t\"\n",
    "# driver.get(\"https://theprotocol.it/filtry/python;t/trainee,assistant,junior;p/zdalna;rw/praca/data-scientist-deep-learning-warszawa,oferta,8e0c0000-a5a4-c69a-3164-08dcbb7766ef?s=-1499548823&searchId=20a1f390-66d0-11ef-8a60-57a9d1202edd\")\n",
    "driver.get(base_url)\n",
    "setCookiesFromJson()"
   ]
  },
  {
   "cell_type": "markdown",
   "metadata": {},
   "source": [
    "## Fetch the URLs from all the pages"
   ]
  },
  {
   "cell_type": "code",
   "execution_count": 243,
   "metadata": {},
   "outputs": [
    {
     "name": "stdout",
     "output_type": "stream",
     "text": [
      "page 1 urls fetched\n",
      "page 2 urls fetched\n",
      "page 3 urls fetched\n",
      "page 4 urls fetched\n",
      "page 5 urls fetched\n",
      "page 6 urls fetched\n",
      "page 7 urls fetched\n",
      "page 8 urls fetched\n",
      "page 9 urls fetched\n",
      "page 10 urls fetched\n",
      "page 11 urls fetched\n",
      "page 12 urls fetched\n",
      "fetched 592 offer urls in total\n"
     ]
    }
   ],
   "source": [
    "def anyOffersOnTheList():\n",
    "    try:\n",
    "        driver.find_element(By.CSS_SELECTOR, '#main-offers-listing > div.hfenof > div.t2re51w > div')\n",
    "        return False\n",
    "    except:\n",
    "        return True\n",
    "    \n",
    "offers_urls = []\n",
    "\n",
    "def fetchOffersUrlsFromSinglePage():\n",
    "    offersContainer = driver.find_element(\"xpath\", '//*[@id=\"main-offers-listing\"]/div[1]/div')\n",
    "    offers = offersContainer.find_elements(By.CLASS_NAME, 'a4pzt2q ')\n",
    "    # offers = offersContainer.find_elements(By.CSS_SELECTOR, '#offer-title')\n",
    "    # print('\\t'+ str(len(offers)) + ' offers:')\n",
    "    for offer in offers:\n",
    "        offers_urls.append(offer.get_property(\"href\"))\n",
    "\n",
    "page = 1\n",
    "while True: # because not sure how many pages are there\n",
    "    site = driver.get(base_url + \"?pageNumber=\" + str(page))\n",
    "    if not anyOffersOnTheList():\n",
    "        print('fetched ' + str(len(offers_urls)) + ' offer urls in total')\n",
    "        break # break if no results\n",
    "    else:\n",
    "        time.sleep(random.uniform(0.5, 1)) #humanize\n",
    "        fetchOffersUrlsFromSinglePage()\n",
    "        print('page ' + str(page) + ' urls fetched')\n",
    "        page += 1"
   ]
  },
  {
   "cell_type": "code",
   "execution_count": 236,
   "metadata": {},
   "outputs": [],
   "source": [
    "# o1 = \"https://theprotocol.it/szczegoly/praca/python-developer-warszawa,oferta,8e0c0000-a5a4-c69a-557e-08dcc052ad1b?s=-684638444&searchId=418f6e30-6bbb-11ef-b6cf-cd90c9f2f956\"\n",
    "# o2 = \"https://theprotocol.it/szczegoly/praca/python-developer-warszawa,oferta,8e0c0000-a5a4-c69a-557e-08dcc052ad1b?s=-684638444&searchId=418f6e30-6bbb-11ef-b6cf-cd90c9f2f956\"\n",
    "\n",
    "# site = driver.get(o2)\n",
    "\n",
    "#NOTES\n",
    "# print(offer_url)\n",
    "# driver.execute_script(\"window.open(\\\"\" + offer_url + \"\\\");\")\n",
    "# time.sleep(0.5)\n",
    "# driver.switch_to.window(driver.window_handles[1])\n",
    "# driver.close()\n",
    "# driver.switch_to.window(driver.window_handles[0])\n",
    "# print(driver.current_url)\n",
    "\n",
    "# print(offer.text) #title\n",
    "# print(offer.get_property(\"innerHTML\"))\n",
    "# print(offer.get_attribute('data-small')) #html attribute"
   ]
  }
 ],
 "metadata": {
  "kernelspec": {
   "display_name": ".venv",
   "language": "python",
   "name": "python3"
  },
  "language_info": {
   "codemirror_mode": {
    "name": "ipython",
    "version": 3
   },
   "file_extension": ".py",
   "mimetype": "text/x-python",
   "name": "python",
   "nbconvert_exporter": "python",
   "pygments_lexer": "ipython3",
   "version": "3.12.2"
  }
 },
 "nbformat": 4,
 "nbformat_minor": 2
}
