{
 "cells": [
  {
   "cell_type": "markdown",
   "metadata": {},
   "source": [
    "## Open a browser and set the cookies from a JSON file"
   ]
  },
  {
   "cell_type": "code",
   "execution_count": 2,
   "metadata": {},
   "outputs": [],
   "source": [
    "from selenium import webdriver\n",
    "from selenium.webdriver.chrome.service import Service\n",
    "from selenium.webdriver.chrome.options import Options\n",
    "from selenium.webdriver.common.by import By\n",
    "from selenium.webdriver.support.ui import WebDriverWait\n",
    "from selenium.webdriver.support import expected_conditions as EC\n",
    "import time\n",
    "import json\n",
    "import random\n",
    "\n",
    "def setCookiesFromJson():\n",
    "    with open('cookies.json', 'r', newline='') as inputdata:\n",
    "        cookies = json.load(inputdata)\n",
    "    for cookie in cookies: #works only after driver.get\n",
    "        driver.add_cookie(cookie)\n",
    "    driver.refresh() # to load cookies\n",
    "\n",
    "service = Service(executable_path=\"chromedriver.exe\")\n",
    "chrome_options = Options()\n",
    "chrome_options.add_argument(\"--disable-search-engine-choice-screen\")\n",
    "# chrome_options.add_experimental_option('excludeSwitches', ['enable-logging']) #disable error logging\n",
    "driver = webdriver.Chrome(service=service, options=chrome_options)\n",
    "\n",
    "base_url = \"https://theprotocol.it/filtry/python;t\"\n",
    "# driver.get(\"https://theprotocol.it/filtry/python;t/trainee,assistant,junior;p/zdalna;rw/praca/data-scientist-deep-learning-warszawa,oferta,8e0c0000-a5a4-c69a-3164-08dcbb7766ef?s=-1499548823&searchId=20a1f390-66d0-11ef-8a60-57a9d1202edd\")\n",
    "driver.get(base_url)\n",
    "setCookiesFromJson()"
   ]
  },
  {
   "cell_type": "markdown",
   "metadata": {},
   "source": [
    "## Fetch the URLs from all the pages"
   ]
  },
  {
   "cell_type": "code",
   "execution_count": 3,
   "metadata": {},
   "outputs": [
    {
     "name": "stdout",
     "output_type": "stream",
     "text": [
      "page 1 urls fetched\n",
      "page 2 urls fetched\n",
      "page 3 urls fetched\n",
      "page 4 urls fetched\n",
      "page 5 urls fetched\n",
      "page 6 urls fetched\n",
      "page 7 urls fetched\n",
      "page 8 urls fetched\n",
      "page 9 urls fetched\n",
      "page 10 urls fetched\n",
      "page 11 urls fetched\n",
      "page 12 urls fetched\n",
      "fetched 590 offer urls in total\n"
     ]
    }
   ],
   "source": [
    "def anyOffersOnTheList():\n",
    "    try:\n",
    "        driver.find_element(By.CSS_SELECTOR, '#main-offers-listing > div.hfenof > div.t2re51w > div')\n",
    "        return False\n",
    "    except:\n",
    "        return True\n",
    "    \n",
    "offers_urls = []\n",
    "\n",
    "def fetchOffersUrlsFromSinglePage():\n",
    "    offersContainer = driver.find_element(\"xpath\", '//*[@id=\"main-offers-listing\"]/div[1]/div')\n",
    "    offers = offersContainer.find_elements(By.CLASS_NAME, 'a4pzt2q ')\n",
    "    # offers = offersContainer.find_elements(By.CSS_SELECTOR, '#offer-title')\n",
    "    # print('\\t'+ str(len(offers)) + ' offers:')\n",
    "    for offer in offers:\n",
    "        offers_urls.append(offer.get_property(\"href\"))\n",
    "\n",
    "page = 1\n",
    "while True: # because not sure how many pages are there\n",
    "    site = driver.get(base_url + \"?pageNumber=\" + str(page))\n",
    "    if not anyOffersOnTheList():\n",
    "        print('fetched ' + str(len(offers_urls)) + ' offer urls in total')\n",
    "        break # break if no results\n",
    "    else:\n",
    "        time.sleep(random.uniform(0.5, 1)) #humanize\n",
    "        fetchOffersUrlsFromSinglePage()\n",
    "        print('page ' + str(page) + ' urls fetched')\n",
    "        page += 1"
   ]
  },
  {
   "cell_type": "markdown",
   "metadata": {},
   "source": [
    "## Analyse offer"
   ]
  },
  {
   "cell_type": "code",
   "execution_count": 12,
   "metadata": {},
   "outputs": [
    {
     "name": "stdout",
     "output_type": "stream",
     "text": [
      "working on 5 - https://theprotocol.it/szczegoly/praca/python-developer-krakow-kapelanka-42a,oferta,f4300000-66b8-523b-4016-08dcbac6b719?s=-684638444&searchId=e71d31e0-6c6d-11ef-8a1f-19dd49dcc0b8\n",
      "doned\n"
     ]
    }
   ],
   "source": [
    "def getOfferDetails():\n",
    "    #SALARY\n",
    "    salaryContainer = driver.find_element(By.XPATH, '//*[@data-test=\"section-contract\"]') # this element should always exist\n",
    "    salary = salaryContainer.text\n",
    "    # print(salary  + '\\n')\n",
    "\n",
    "    # EMPLOYER\n",
    "    employerElement = driver.find_element(\"xpath\", '//*[@data-test=\"anchor-company-link\"]') # this element should always exist\n",
    "    employer = employerElement.text + ' ' + employerElement.get_property(\"href\")\n",
    "    # print(employer  + '\\n')\n",
    "    \n",
    "    #WORKFROM, EXP, LOCATION - \"PARAMETERS\"\n",
    "    workModes, positionLevels, offerValidTo, location = '', '', '', ''\n",
    "    parametersContainer = driver.find_element(By.CLASS_NAME, \"c21kfgf\")\n",
    "    parameters = parametersContainer.find_elements(By.CLASS_NAME, \"s1bu9jax\")\n",
    "    for param in parameters:\n",
    "        paramType = param.get_attribute(\"data-test\") #element description\n",
    "        match paramType:\n",
    "            case \"section-workModes\":\n",
    "                workModes = param.text\n",
    "            case \"section-positionLevels\":\n",
    "                positionLevels = param.text\n",
    "            case \"section-offerValidTo\":\n",
    "                offerValidTo = param.text\n",
    "            case \"section-workplace\":\n",
    "                location = param.text\n",
    "        # print(param.text + '\\n')\n",
    "\n",
    "    # print(workModes + '\\n\\n' + positionLevels + '\\n\\n' +  offerValidTo + '\\n\\n' +  location + '\\n')\n",
    "\n",
    "    # # # TECHSTACK\n",
    "    descriptionsContainer = driver.find_element(By.CSS_SELECTOR, '#TECHNOLOGY_AND_POSITION')\n",
    "\n",
    "    techstack = descriptionsContainer.find_elements(By.CLASS_NAME, \"c1fj2x2p\")\n",
    "    techstackExpected = ''\n",
    "    techstackOptional = ''\n",
    "    for group in techstack:\n",
    "        if group.text[0:8] == 'EXPECTED':\n",
    "            techstackExpected = group.text[9:-1]\n",
    "        elif group.text[0:8] == 'OPTIONAL':\n",
    "            techstackOptional = group.text[9:-1]\n",
    "    # print(techstackExpected + '\\n\\n' + techstackOptional + '\\n')\n",
    "\n",
    "    #RESPONSIBILITIES\n",
    "    responsibilities = None\n",
    "    try:\n",
    "        try:\n",
    "            responsibilities = descriptionsContainer.find_element(\"xpath\", '//*[@data-test=\"section-responsibilities\"]/ul').text #/only ul elements\n",
    "        except:\n",
    "            responsibilities = descriptionsContainer.find_element(\"xpath\", '//*[@data-test=\"section-responsibilities\"]').text #/if it's a single entry\n",
    "    except:\n",
    "        pass #do nothing as the value is already None\n",
    "        print('RESPONSIBILITIES:\\n' + str(responsibilities) + '\\n' + driver.current_url)\n",
    "\n",
    "    #REQUIREMENTS\n",
    "    requirements = None\n",
    "    try:\n",
    "        try:\n",
    "            requirements = descriptionsContainer.find_element(\"xpath\", '//*[@data-test=\"section-requirements\"]/ul').text\n",
    "        except:\n",
    "            requirements = descriptionsContainer.find_element(\"xpath\", '//*[@data-test=\"section-requirements\"]').text #/if it's a single entry\n",
    "    except:\n",
    "        pass #do nothing as the value is already None\n",
    "        print('REQUIREMENTS:\\n' + str(requirements) + '\\n' + driver.current_url)\n",
    "\n",
    "\n",
    "    #OPTIONAL REQUIREMENTS\n",
    "    optionalRequirements = None\n",
    "    try:\n",
    "        optionalRequirementsContainer = descriptionsContainer.find_elements(\"xpath\", '//*[@data-test=\"section-requirements-optional\"]/li')\n",
    "        if len(optionalRequirementsContainer) > 0:\n",
    "            optionalRequirements = ''\n",
    "            for optionalRequirement in optionalRequirementsContainer:\n",
    "                optionalRequirements += optionalRequirement.text + '\\n'\n",
    "        elif len(optionalRequirementsContainer) <= 0:\n",
    "            try:\n",
    "                optionalRequirements = descriptionsContainer.find_element(\"xpath\", '//*[@data-test=\"section-requirements-optional\"]').text\n",
    "            except:\n",
    "                pass #do nothing as the value is already None\n",
    "                # print('OPTIONAL:\\n' + str(optionalRequirements) + '\\n' + driver.current_url)        \n",
    "    except:\n",
    "        pass #do nothing as the value is already None\n",
    "    # print('OPTIONAL:\\n' + str(optionalRequirements) + '\\n' + driver.current_url)\n",
    "\n",
    "    \n",
    "for i in range (5,6):\n",
    "    driver.get(offers_urls[i])\n",
    "    print ('working on ' + str(i) + ' - ' +  driver.current_url)\n",
    "    getOfferDetails()\n",
    "    # time.sleep(random.uniform(5,15)) #Humanize request times\n",
    "print('doned')\n",
    "\n",
    "# # PROBLEMATIC OFFERS:\n",
    "# driver.get('https://theprotocol.it/szczegoly/praca/web3-junior-python-developer-ka-warszawa-polczynska-112a,oferta,90c00000-1543-c628-7588-08dcc5c378f6?s=-684638444&searchId=d56840d0-6c44-11ef-a828-7d551d1dc879')\n",
    "# getOfferDetails()"
   ]
  },
  {
   "cell_type": "code",
   "execution_count": 227,
   "metadata": {},
   "outputs": [
    {
     "name": "stdout",
     "output_type": "stream",
     "text": [
      "1\n",
      "2\n",
      "3\n",
      "fin 1\n"
     ]
    }
   ],
   "source": [
    "####TODO: data-test=\"text-offerNotFound\" - CHECK IF OFFER FOUND\n",
    "# driver.get('https://theprotocol.it/szczegoly/praca/internship-in-the-it-area-php-ja1ee5-576a-08dcc1cef0c4?s=-684638444&searchId=e71d31e0-6c6d-11ef-')\n",
    "\n",
    "\n",
    "\n",
    "#NOTES\n",
    "# driver.execute_script(\"window.open(\\\"\" + offer_url + \"\\\");\")\n",
    "# time.sleep(0.5)\n",
    "# driver.switch_to.window(driver.window_handles[1])\n",
    "# driver.close()\n",
    "# driver.switch_to.window(driver.window_handles[0])\n",
    "# print(driver.current_url)\n",
    "\n",
    "# try/except test\n",
    "# val = 1 \n",
    "# try:\n",
    "#     try:\n",
    "#         print('1')\n",
    "#         val = val/0\n",
    "#         print('post1') # not displayed\n",
    "#     except:\n",
    "#         print('2')\n",
    "#         # val = ''\n",
    "#         val += 'asd'\n",
    "#         print('post2')        \n",
    "# except:\n",
    "#     print('3')\n",
    "# finally:\n",
    "#     print('fin ' + str(val))"
   ]
  }
 ],
 "metadata": {
  "kernelspec": {
   "display_name": ".venv",
   "language": "python",
   "name": "python3"
  },
  "language_info": {
   "codemirror_mode": {
    "name": "ipython",
    "version": 3
   },
   "file_extension": ".py",
   "mimetype": "text/x-python",
   "name": "python",
   "nbconvert_exporter": "python",
   "pygments_lexer": "ipython3",
   "version": "3.12.2"
  }
 },
 "nbformat": 4,
 "nbformat_minor": 2
}
