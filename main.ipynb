{
 "cells": [
  {
   "cell_type": "code",
   "execution_count": 1,
   "metadata": {},
   "outputs": [],
   "source": [
    "from selenium import webdriver\n",
    "from selenium.webdriver.chrome.service import Service\n",
    "from selenium.webdriver.chrome.options import Options\n",
    "from selenium.webdriver.common.by import By\n",
    "from selenium.webdriver.support.ui import WebDriverWait\n",
    "from selenium.webdriver.support import expected_conditions as EC\n",
    "import time\n",
    "import json\n",
    "\n",
    "def setCookiesFromJson():\n",
    "    with open('cookies.json', 'r', newline='') as inputdata:\n",
    "        cookies = json.load(inputdata)\n",
    "    for cookie in cookies: #works only after driver.get\n",
    "        driver.add_cookie(cookie)\n",
    "    driver.refresh() # to load cookies\n",
    "\n",
    "service = Service(executable_path=\"chromedriver.exe\")\n",
    "chrome_options = Options()\n",
    "chrome_options.add_argument(\"--disable-search-engine-choice-screen\")\n",
    "# chrome_options.add_experimental_option('excludeSwitches', ['enable-logging']) #disable error logging\n",
    "driver = webdriver.Chrome(service=service, options=chrome_options)\n",
    "\n",
    "driver.get(\"https://theprotocol.it/filtry/python;t/trainee,assistant,junior;p/zdalna;rw/praca/data-scientist-deep-learning-warszawa,oferta,8e0c0000-a5a4-c69a-3164-08dcbb7766ef?s=-1499548823&searchId=20a1f390-66d0-11ef-8a60-57a9d1202edd\")\n",
    "setCookiesFromJson()"
   ]
  },
  {
   "cell_type": "code",
   "execution_count": 7,
   "metadata": {},
   "outputs": [],
   "source": [
    "action = webdriver.ActionChains(driver)\n",
    "\n",
    "def waitAndHoverByClassName(name, timeout):\n",
    "    element = WebDriverWait(driver, timeout).until(EC.presence_of_element_located((By.CLASS_NAME, name)))\n",
    "    action.move_to_element(element) #move cursor\n",
    "    action.perform()\n",
    "\n",
    "waitAndHoverByClassName(\"a4pzt2q\", 5)\n",
    "\n",
    "#o1onjy6t = container\n",
    "#hulpcj = title\n",
    "#a4pzt2q = offer class"
   ]
  },
  {
   "cell_type": "code",
   "execution_count": 35,
   "metadata": {},
   "outputs": [
    {
     "name": "stdout",
     "output_type": "stream",
     "text": [
      "\t11 offers:\n",
      "Junior/Mid - Webdeveloper - PHP/Python\n",
      "viewed\n",
      "Junior Python Engineer with Networks\n",
      "Python/Django Developer\n",
      "viewed\n",
      "Junior Network Security Engineer with Python\n",
      "viewed\n",
      "Trener programowania - kółko informatyczne\n",
      "Data Engineer\n",
      "\n",
      "\n",
      "\n",
      "\n",
      "\n"
     ]
    }
   ],
   "source": [
    "# driver.find_element(By.XPATH, '//button[text()=\"Some text\"]')\n",
    "offersContainer = driver.find_element(By.XPATH, '//*[@id=\"main-offers-listing\"]/div[1]/div')\n",
    "offers = offersContainer.find_elements(By.CLASS_NAME, 'jiiw5hj') #offer name = jiiw5hj, offer = p1s4mtjh\n",
    "# print(len(offerts))\n",
    "\n",
    "print('\\t'+ str(len(offers)) + ' offers:')\n",
    "\n",
    "for offer in offers:\n",
    "    print(offer.text) #title\n",
    "    # print(offer.get_property(\"innerHTML\"))\n",
    "    # print(offer.get_attribute('data-small')) #html attribute\n",
    "    "
   ]
  }
 ],
 "metadata": {
  "kernelspec": {
   "display_name": ".venv",
   "language": "python",
   "name": "python3"
  },
  "language_info": {
   "codemirror_mode": {
    "name": "ipython",
    "version": 3
   },
   "file_extension": ".py",
   "mimetype": "text/x-python",
   "name": "python",
   "nbconvert_exporter": "python",
   "pygments_lexer": "ipython3",
   "version": "3.12.2"
  }
 },
 "nbformat": 4,
 "nbformat_minor": 2
}
