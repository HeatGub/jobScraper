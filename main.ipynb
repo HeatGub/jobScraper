{
 "cells": [
  {
   "cell_type": "code",
   "execution_count": 120,
   "metadata": {},
   "outputs": [],
   "source": [
    "from selenium import webdriver\n",
    "from selenium.webdriver.chrome.service import Service\n",
    "from selenium.webdriver.chrome.options import Options\n",
    "from selenium.webdriver.common.by import By\n",
    "from selenium.webdriver.support.ui import WebDriverWait\n",
    "from selenium.webdriver.support import expected_conditions as EC\n",
    "import time\n",
    "import json\n",
    "\n",
    "def setCookiesFromJson():\n",
    "    with open('cookies.json', 'r', newline='') as inputdata:\n",
    "        cookies = json.load(inputdata)\n",
    "    for cookie in cookies: #works only after driver.get\n",
    "        driver.add_cookie(cookie)\n",
    "    driver.refresh() # to load cookies\n",
    "\n",
    "service = Service(executable_path=\"chromedriver.exe\")\n",
    "chrome_options = Options()\n",
    "chrome_options.add_argument(\"--disable-search-engine-choice-screen\")\n",
    "# chrome_options.add_experimental_option('excludeSwitches', ['enable-logging']) #disable error logging\n",
    "driver = webdriver.Chrome(service=service, options=chrome_options)\n",
    "\n",
    "# driver.get(\"https://theprotocol.it/filtry/python;t/trainee,assistant,junior;p/zdalna;rw/praca/data-scientist-deep-learning-warszawa,oferta,8e0c0000-a5a4-c69a-3164-08dcbb7766ef?s=-1499548823&searchId=20a1f390-66d0-11ef-8a60-57a9d1202edd\")\n",
    "driver.get(\"https://theprotocol.it/filtry/python;t\")\n",
    "setCookiesFromJson()"
   ]
  },
  {
   "cell_type": "code",
   "execution_count": 121,
   "metadata": {},
   "outputs": [
    {
     "name": "stdout",
     "output_type": "stream",
     "text": [
      "<selenium.webdriver.remote.webelement.WebElement (session=\"2a8dae2197bd20f98918f5b2b4c9f47e\", element=\"f.5CD989129CBF91D204CA2221ECE5797C.d.1AA5D053E7B25082B9CDC1A900B52730.e.321\")>\n"
     ]
    }
   ],
   "source": [
    "action = webdriver.ActionChains(driver)\n",
    "\n",
    "def waitAndHoverByClassName(name, timeout):\n",
    "    element = WebDriverWait(driver, timeout).until(EC.presence_of_element_located((By.CLASS_NAME, name)))\n",
    "    # element = WebDriverWait(driver, timeout).until(EC.presence_of_element_located('CLASS_NAME', name))\n",
    "    print(element)\n",
    "    # action.move_to_element(element) #move cursor\n",
    "    # action.perform()\n",
    "\n",
    "waitAndHoverByClassName(\"a4pzt2q\", 5)\n",
    "\n",
    "#o1onjy6t = container\n",
    "#hulpcj = title\n",
    "#a4pzt2q = offer class"
   ]
  },
  {
   "cell_type": "code",
   "execution_count": 122,
   "metadata": {},
   "outputs": [
    {
     "name": "stdout",
     "output_type": "stream",
     "text": [
      "\t50 offers:\n",
      "https://theprotocol.it/szczegoly/praca/python-developer-warszawa,oferta,8e0c0000-a5a4-c69a-557e-08dcc052ad1b?searchId=961a5920-6bb0-11ef-b6ff-0d4dcd210125&s=-684638444\n",
      "https://theprotocol.it/szczegoly/praca/python-developer-warszawa-pulawska-180,oferta,82b70000-8a10-6a4e-ddb2-08dcc1145276?searchId=961a5920-6bb0-11ef-b6ff-0d4dcd210125&s=-684638444\n",
      "https://theprotocol.it/szczegoly/praca/python-developer-warszawa-krolewska-18,oferta,4f4d0000-ce9e-2e03-1ada-08dcb6023765?searchId=961a5920-6bb0-11ef-b6ff-0d4dcd210125&s=-684638444\n",
      "https://theprotocol.it/szczegoly/praca/python-developer-opole-technologiczna-2,oferta,eef90000-e065-ee46-3495-08dccc023e9c?searchId=961a5920-6bb0-11ef-b6ff-0d4dcd210125&s=-684638444\n",
      "https://theprotocol.it/szczegoly/praca/python-developer-krakow,oferta,5f840000-06f6-3a3a-94b3-08dcc76fb51e?searchId=961a5920-6bb0-11ef-b6ff-0d4dcd210125&s=-684638444\n",
      "https://theprotocol.it/szczegoly/praca/test-automation-python-gdansk,oferta,c8350000-1514-9ec2-22eb-08dcb6e168be?searchId=961a5920-6bb0-11ef-b6ff-0d4dcd210125&s=-684638444\n",
      "https://theprotocol.it/szczegoly/praca/python-developer-krakow-kapelanka-42a,oferta,f4300000-66b8-523b-4016-08dcbac6b719?searchId=961a5920-6bb0-11ef-b6ff-0d4dcd210125&s=-684638444\n",
      "https://theprotocol.it/szczegoly/praca/python-developer-lodz-piotrkowska-148-150,oferta,1a840000-f5ea-0ac0-befb-08dccd98e979?searchId=961a5920-6bb0-11ef-b6ff-0d4dcd210125&s=-684638444\n",
      "https://theprotocol.it/szczegoly/praca/python-engineer-krakow,oferta,eef90000-e065-ee46-d719-08dccb37e00a?searchId=961a5920-6bb0-11ef-b6ff-0d4dcd210125&s=-684638444\n",
      "https://theprotocol.it/szczegoly/praca/python-developer-poznan,oferta,5f840000-06f6-3a3a-01fb-08dcc82bd750?searchId=961a5920-6bb0-11ef-b6ff-0d4dcd210125&s=-684638444\n",
      "https://theprotocol.it/szczegoly/praca/senior-python-developer-greater-poland,oferta,5a170000-0d84-fead-3354-08dcc04d9abf?searchId=961a5920-6bb0-11ef-b6ff-0d4dcd210125&s=-684638444\n",
      "https://theprotocol.it/szczegoly/praca/python-developer-wroclaw-legnicka-55f,oferta,eef90000-e065-ee46-33d3-08dccbfd05bd?searchId=961a5920-6bb0-11ef-b6ff-0d4dcd210125&s=-684638444\n",
      "https://theprotocol.it/szczegoly/praca/backend-developer-python---django-warszawa-aleje-jerozolimskie-47,oferta,88060000-c44a-2e91-87ef-08dcc6725dd6?searchId=961a5920-6bb0-11ef-b6ff-0d4dcd210125&s=-684638444\n",
      "https://theprotocol.it/szczegoly/praca/senior-python-developer-gdynia,oferta,c8350000-1514-9ec2-f98d-08dcb78ba141?searchId=961a5920-6bb0-11ef-b6ff-0d4dcd210125&s=-684638444\n",
      "https://theprotocol.it/szczegoly/praca/python-developer-wroclaw-generala-wladyslawa-sikorskiego-26,oferta,2bbd0000-f57f-a224-528d-08dcc6999786?searchId=961a5920-6bb0-11ef-b6ff-0d4dcd210125&s=-684638444\n",
      "https://theprotocol.it/szczegoly/praca/python-ai-engineer-krakow,oferta,d5d20000-53eb-1656-942d-08dccced4ff9?searchId=961a5920-6bb0-11ef-b6ff-0d4dcd210125&s=-684638444\n",
      "https://theprotocol.it/szczegoly/praca/junior-python-developer-warszawa-krolewska-18,oferta,5c610000-000d-5e25-8ef0-08dcb5f4e56f?searchId=961a5920-6bb0-11ef-b6ff-0d4dcd210125&s=-684638444\n",
      "https://theprotocol.it/szczegoly/praca/automation-tester-python-gdansk,oferta,f0f20000-01c8-5654-9a97-08dcba9b7de2?searchId=961a5920-6bb0-11ef-b6ff-0d4dcd210125&s=-684638444\n",
      "https://theprotocol.it/szczegoly/praca/senior-data-scientist-python---nlp---azure-krakow,oferta,90480000-706e-a661-795b-08dcb6e07f07?searchId=961a5920-6bb0-11ef-b6ff-0d4dcd210125&s=-684638444\n",
      "https://theprotocol.it/szczegoly/praca/senior-python-engineer-krakow-lubicz-23a,oferta,c0600000-5ac9-ae53-6a00-08dcc29f9802?searchId=961a5920-6bb0-11ef-b6ff-0d4dcd210125&s=-684638444\n",
      "https://theprotocol.it/szczegoly/praca/web3-junior-python-developer-ka-warszawa-polczynska-112a,oferta,90c00000-1543-c628-7588-08dcc5c378f6?searchId=961a5920-6bb0-11ef-b6ff-0d4dcd210125&s=-684638444\n",
      "https://theprotocol.it/szczegoly/praca/python-ai-developer-krakow-pawia-7,oferta,8e0c0000-a5a4-c69a-25f7-08dcc048cbee?searchId=961a5920-6bb0-11ef-b6ff-0d4dcd210125&s=-684638444\n",
      "https://theprotocol.it/szczegoly/praca/team-leader-python-developer-warszawa-polczynska-112a,oferta,2bbd0000-f57f-a224-8000-08dcc5b2156c?searchId=961a5920-6bb0-11ef-b6ff-0d4dcd210125&s=-684638444\n",
      "https://theprotocol.it/szczegoly/praca/starszy-programista-python-warszawa-komitetu-obrony-robotnikow-56,oferta,c8350000-1514-9ec2-0015-08dcb988055e?searchId=961a5920-6bb0-11ef-b6ff-0d4dcd210125&s=-684638444\n",
      "https://theprotocol.it/szczegoly/praca/senior-python-developer-warszawa-burakowska-14,oferta,d5d20000-53eb-1656-4829-08dcc8dc0091?searchId=961a5920-6bb0-11ef-b6ff-0d4dcd210125&s=-684638444\n",
      "https://theprotocol.it/szczegoly/praca/senior-python-developer-gdansk-aleja-grunwaldzka-472d,oferta,82b70000-8a10-6a4e-8cbb-08dcc10c0b62?searchId=961a5920-6bb0-11ef-b6ff-0d4dcd210125&s=-684638444\n",
      "https://theprotocol.it/szczegoly/praca/junior-mid---webdeveloper---php-python-lublin-fabryczna-2,oferta,fca90000-9a8f-be1c-301f-08dcc1e3a864?searchId=961a5920-6bb0-11ef-b6ff-0d4dcd210125&s=-684638444\n",
      "https://theprotocol.it/szczegoly/praca/senior-python-developer-wroclaw-generala-wladyslawa-sikorskiego-26,oferta,90c00000-1543-c628-2c21-08dcc69e25fa?searchId=961a5920-6bb0-11ef-b6ff-0d4dcd210125&s=-684638444\n",
      "https://theprotocol.it/szczegoly/praca/senior-python-engineer-genai-warszawa,oferta,4e8f0000-0b8e-fe18-6655-08dcb85b8eab?searchId=961a5920-6bb0-11ef-b6ff-0d4dcd210125&s=-684638444\n",
      "https://theprotocol.it/szczegoly/praca/python-developer-poznan,oferta,8e0c0000-a5a4-c69a-8522-08dcbb91e36e?searchId=961a5920-6bb0-11ef-b6ff-0d4dcd210125&s=-684638444\n",
      "https://theprotocol.it/szczegoly/praca/python-developer-with-gcp-knowledge-lodz-wersalska-6,oferta,eef90000-e065-ee46-7eb4-08dccb6015bd?searchId=961a5920-6bb0-11ef-b6ff-0d4dcd210125&s=-684638444\n",
      "https://theprotocol.it/szczegoly/praca/python-test-engineer-m-w-d-wroclaw-plac-konstytucji-3-maja-3,oferta,eef90000-e065-ee46-88b3-08dcc8c23737?searchId=961a5920-6bb0-11ef-b6ff-0d4dcd210125&s=-684638444\n",
      "https://theprotocol.it/szczegoly/praca/senior-python-developer-warszawa,oferta,d5d20000-53eb-1656-dfb4-08dcc839936a?searchId=961a5920-6bb0-11ef-b6ff-0d4dcd210125&s=-684638444\n",
      "https://theprotocol.it/szczegoly/praca/backend-developer---python-sokolow-pow-pruszkowski,oferta,90480000-706e-a661-c137-08dcb7a87a8c?searchId=961a5920-6bb0-11ef-b6ff-0d4dcd210125&s=-684638444\n",
      "https://theprotocol.it/szczegoly/praca/junior-python-developer-ka-warszawa-polczynska-112a,oferta,88060000-c44a-2e91-ea91-08dcc5b20591?searchId=961a5920-6bb0-11ef-b6ff-0d4dcd210125&s=-684638444\n",
      "https://theprotocol.it/szczegoly/praca/senior-backend-python-developer-krakow-kapelanka-42a,oferta,c0600000-5ac9-ae53-e018-08dcc2780b3d?searchId=961a5920-6bb0-11ef-b6ff-0d4dcd210125&s=-684638444\n",
      "https://theprotocol.it/szczegoly/praca/fullstack-developer-angular-and-python-warszawa,oferta,5f840000-06f6-3a3a-0498-08dcc8aaf0da?searchId=961a5920-6bb0-11ef-b6ff-0d4dcd210125&s=-684638444\n",
      "https://theprotocol.it/szczegoly/praca/python-test-engineer-wroclaw,oferta,1a840000-f5ea-0ac0-0351-08dccdb7b75b?searchId=961a5920-6bb0-11ef-b6ff-0d4dcd210125&s=-684638444\n",
      "https://theprotocol.it/szczegoly/praca/lead-vp-financial-engineering-python-developer-krakow-kapelanka-42a,oferta,fca90000-9a8f-be1c-5489-08dcc1e004af?searchId=961a5920-6bb0-11ef-b6ff-0d4dcd210125&s=-684638444\n",
      "https://theprotocol.it/szczegoly/praca/fullstack-developer-silesia-js-python-gliwice,oferta,c8350000-1514-9ec2-1eef-08dcb847ada4?searchId=961a5920-6bb0-11ef-b6ff-0d4dcd210125&s=-684638444\n",
      "https://theprotocol.it/szczegoly/praca/tester-automatyzujacy-python-selenium-lodz,oferta,aa3c0000-a366-0204-71af-08dccda65327?searchId=961a5920-6bb0-11ef-b6ff-0d4dcd210125&s=-684638444\n",
      "https://theprotocol.it/szczegoly/praca/senior-python-cloud-developer-warszawa-przyokopowa-26,oferta,90480000-706e-a661-27f7-08dcb843b128?searchId=961a5920-6bb0-11ef-b6ff-0d4dcd210125&s=-684638444\n",
      "https://theprotocol.it/szczegoly/praca/fullstack-python-developer-krakow,oferta,8e0c0000-a5a4-c69a-c8e6-08dcc0ffbbdd?searchId=961a5920-6bb0-11ef-b6ff-0d4dcd210125&s=-684638444\n",
      "https://theprotocol.it/szczegoly/praca/qa-engineer---python-developer-warszawa-aleje-jerozolimskie-200,oferta,5f840000-06f6-3a3a-1151-08dccd81eb48?searchId=961a5920-6bb0-11ef-b6ff-0d4dcd210125&s=-684638444\n",
      "https://theprotocol.it/szczegoly/praca/senior-python-developer-warszawa,oferta,5f840000-06f6-3a3a-0ed8-08dcc8e430c2?searchId=961a5920-6bb0-11ef-b6ff-0d4dcd210125&s=-684638444\n",
      "https://theprotocol.it/szczegoly/praca/senior-python-engineer-with-apache-spark-krakow-fabryczna-1a,oferta,eef90000-e065-ee46-4230-08dcc7f85727?searchId=961a5920-6bb0-11ef-b6ff-0d4dcd210125&s=-684638444\n",
      "https://theprotocol.it/szczegoly/praca/python-django-developer-warszawa,oferta,eed40000-d74a-2608-9523-08dcc1c4b536?searchId=961a5920-6bb0-11ef-b6ff-0d4dcd210125&s=-684638444\n",
      "https://theprotocol.it/szczegoly/praca/senior-backend-engineer-python-ruby-node-krakow-krupnicza-5,oferta,eef90000-e065-ee46-6a70-08dccb4c1925?searchId=961a5920-6bb0-11ef-b6ff-0d4dcd210125&s=-684638444\n",
      "https://theprotocol.it/szczegoly/praca/senior-c---python-developer-krakow-stanislawa-klimeckiego-1,oferta,90480000-706e-a661-6e24-08dcb853a514?searchId=961a5920-6bb0-11ef-b6ff-0d4dcd210125&s=-684638444\n",
      "https://theprotocol.it/szczegoly/praca/lead-data-software-engineer-python-azure-krakow-fabryczna-1a,oferta,5f840000-06f6-3a3a-1d5b-08dcc7f83404?searchId=961a5920-6bb0-11ef-b6ff-0d4dcd210125&s=-684638444\n"
     ]
    }
   ],
   "source": [
    "offersContainer = driver.find_element(By.XPATH, '//*[@id=\"main-offers-listing\"]/div[1]/div')\n",
    "# offersContainer = driver.find_element(\"xpath\", '//*[@id=\"main-offers-listing\"]/div[1]/div') #also works\n",
    "\n",
    "offers = offersContainer.find_elements(By.CLASS_NAME, 'a4pzt2q ') #\n",
    "# offers = offersContainer.find_elements(By.CSS_SELECTOR, '#offer-title')\n",
    "\n",
    "offers_urls = []\n",
    "\n",
    "print('\\t'+ str(len(offers)) + ' offers:')\n",
    "# for offer in offers[0:1]:\n",
    "for offer in offers:\n",
    "    offers_urls.append(offer.get_property(\"href\"))\n",
    "    # print(offer_url)\n",
    "    # driver.execute_script(\"window.open(\\\"\" + offer_url + \"\\\");\")\n",
    "    # time.sleep(0.5)\n",
    "    # driver.switch_to.window(driver.window_handles[1])\n",
    "    # driver.close()\n",
    "    # driver.switch_to.window(driver.window_handles[0])\n",
    "    # print(driver.current_url)\n",
    "\n",
    "    # print(offer.text) #title\n",
    "    # print(offer.get_property(\"innerHTML\"))\n",
    "    # print(offer.get_attribute('data-small')) #html attribute\n",
    "    \n",
    "for url in offers_urls:  \n",
    "    print(url)"
   ]
  }
 ],
 "metadata": {
  "kernelspec": {
   "display_name": ".venv",
   "language": "python",
   "name": "python3"
  },
  "language_info": {
   "codemirror_mode": {
    "name": "ipython",
    "version": 3
   },
   "file_extension": ".py",
   "mimetype": "text/x-python",
   "name": "python",
   "nbconvert_exporter": "python",
   "pygments_lexer": "ipython3",
   "version": "3.12.2"
  }
 },
 "nbformat": 4,
 "nbformat_minor": 2
}
